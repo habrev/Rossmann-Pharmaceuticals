{
  "cells": [
    {
      "cell_type": "markdown",
      "metadata": {
        "id": "view-in-github",
        "colab_type": "text"
      },
      "source": [
        "<a href=\"https://colab.research.google.com/github/habrev/Rossmann-Pharmaceuticals/blob/task-2/notebooks/prediction.ipynb\" target=\"_parent\"><img src=\"https://colab.research.google.com/assets/colab-badge.svg\" alt=\"Open In Colab\"/></a>"
      ]
    },
    {
      "cell_type": "markdown",
      "metadata": {
        "id": "CyAR3uwZa0PJ"
      },
      "source": [
        "# Dependency"
      ]
    },
    {
      "cell_type": "code",
      "execution_count": 10,
      "metadata": {
        "id": "xtYZ0-zUa0PL"
      },
      "outputs": [],
      "source": [
        "import pandas as pd\n",
        "import matplotlib as plt\n",
        "import numpy as np\n",
        "from sklearn.preprocessing import LabelEncoder"
      ]
    },
    {
      "cell_type": "code",
      "source": [
        "from google.colab import drive\n",
        "drive.mount('/content/drive')"
      ],
      "metadata": {
        "colab": {
          "base_uri": "https://localhost:8080/"
        },
        "id": "2eJUhNsSokMl",
        "outputId": "7db8cefe-6534-4e92-a192-1fa6707dce27"
      },
      "execution_count": 4,
      "outputs": [
        {
          "output_type": "stream",
          "name": "stdout",
          "text": [
            "Mounted at /content/drive\n"
          ]
        }
      ]
    },
    {
      "cell_type": "markdown",
      "metadata": {
        "id": "eUdhA_vfa0PM"
      },
      "source": [
        "# Dataset merging"
      ]
    },
    {
      "cell_type": "markdown",
      "metadata": {
        "id": "NX51WgZea0PM"
      },
      "source": [
        "# file imported"
      ]
    },
    {
      "cell_type": "code",
      "execution_count": 5,
      "metadata": {
        "id": "BNlKl3UQa0PM"
      },
      "outputs": [],
      "source": [
        "train = pd.read_csv('train.csv')\n",
        "store = pd.read_csv('store.csv')"
      ]
    },
    {
      "cell_type": "code",
      "execution_count": 9,
      "metadata": {
        "id": "4bWe0U72a0PN",
        "outputId": "2773b4c5-35ad-4226-8637-55c206eadc9f",
        "colab": {
          "base_uri": "https://localhost:8080/"
        }
      },
      "outputs": [
        {
          "output_type": "stream",
          "name": "stdout",
          "text": [
            "   Store  DayOfWeek        Date    Sales  Customers  Open  Promo StateHoliday  \\\n",
            "0      1          5  2015-07-31   5263.0      555.0   1.0    1.0            0   \n",
            "1      2          5  2015-07-31   6064.0      625.0   1.0    1.0            0   \n",
            "2      3          5  2015-07-31   8314.0      821.0   1.0    1.0            0   \n",
            "3      4          5  2015-07-31  13995.0     1498.0   1.0    1.0            0   \n",
            "4      5          5  2015-07-31   4822.0      559.0   1.0    1.0            0   \n",
            "\n",
            "   SchoolHoliday StoreType Assortment  CompetitionDistance  \\\n",
            "0            1.0         c          a               1270.0   \n",
            "1            1.0         a          a                570.0   \n",
            "2            1.0         a          a              14130.0   \n",
            "3            1.0         c          c                620.0   \n",
            "4            1.0         a          a              29910.0   \n",
            "\n",
            "   CompetitionOpenSinceMonth  CompetitionOpenSinceYear  Promo2  \\\n",
            "0                        9.0                    2008.0       0   \n",
            "1                       11.0                    2007.0       1   \n",
            "2                       12.0                    2006.0       1   \n",
            "3                        9.0                    2009.0       0   \n",
            "4                        4.0                    2015.0       0   \n",
            "\n",
            "   Promo2SinceWeek  Promo2SinceYear    PromoInterval  \n",
            "0              NaN              NaN              NaN  \n",
            "1             13.0           2010.0  Jan,Apr,Jul,Oct  \n",
            "2             14.0           2011.0  Jan,Apr,Jul,Oct  \n",
            "3              NaN              NaN              NaN  \n",
            "4              NaN              NaN              NaN  \n",
            "\n",
            "merged file saved to merged_data.csv\n"
          ]
        }
      ],
      "source": [
        "# Merge the datasets on the 'Store' column\n",
        "merged_data = pd.merge(train, store, on='Store', how='left')\n",
        "\n",
        "# Display the first few rows of the merged dataset\n",
        "print(merged_data.head())\n",
        "\n",
        "# Save the merged dataset to a CSV file (optional)\n",
        "output_path = 'merged_data.csv'\n",
        "merged_data.to_csv(output_path, index=False)\n",
        "print(f\"\\nmerged file saved to {output_path}\")"
      ]
    },
    {
      "cell_type": "markdown",
      "source": [
        "# Preprocessing"
      ],
      "metadata": {
        "id": "nwTfG3vDsEZi"
      }
    },
    {
      "cell_type": "code",
      "execution_count": 13,
      "metadata": {
        "id": "kkDvUzYBa0PO",
        "colab": {
          "base_uri": "https://localhost:8080/"
        },
        "outputId": "c3367d49-2b8b-4214-c157-ba739dd08a0c"
      },
      "outputs": [
        {
          "output_type": "stream",
          "name": "stderr",
          "text": [
            "<ipython-input-13-f32e1f168849>:2: DtypeWarning: Columns (7) have mixed types. Specify dtype option on import or set low_memory=False.\n",
            "  merged_data = pd.read_csv('merged_data.csv')\n",
            "<ipython-input-13-f32e1f168849>:18: FutureWarning: A value is trying to be set on a copy of a DataFrame or Series through chained assignment using an inplace method.\n",
            "The behavior will change in pandas 3.0. This inplace method will never work because the intermediate object on which we are setting values always behaves as a copy.\n",
            "\n",
            "For example, when doing 'df[col].method(value, inplace=True)', try using 'df.method({col: value}, inplace=True)' or df[col] = df[col].method(value) instead, to perform the operation inplace on the original object.\n",
            "\n",
            "\n",
            "  merged_data['CompetitionDistance'].fillna(merged_data['CompetitionDistance'].median(), inplace=True)\n",
            "<ipython-input-13-f32e1f168849>:19: FutureWarning: A value is trying to be set on a copy of a DataFrame or Series through chained assignment using an inplace method.\n",
            "The behavior will change in pandas 3.0. This inplace method will never work because the intermediate object on which we are setting values always behaves as a copy.\n",
            "\n",
            "For example, when doing 'df[col].method(value, inplace=True)', try using 'df.method({col: value}, inplace=True)' or df[col] = df[col].method(value) instead, to perform the operation inplace on the original object.\n",
            "\n",
            "\n",
            "  merged_data['CompetitionOpenSinceMonth'].fillna(0, inplace=True)\n",
            "<ipython-input-13-f32e1f168849>:20: FutureWarning: A value is trying to be set on a copy of a DataFrame or Series through chained assignment using an inplace method.\n",
            "The behavior will change in pandas 3.0. This inplace method will never work because the intermediate object on which we are setting values always behaves as a copy.\n",
            "\n",
            "For example, when doing 'df[col].method(value, inplace=True)', try using 'df.method({col: value}, inplace=True)' or df[col] = df[col].method(value) instead, to perform the operation inplace on the original object.\n",
            "\n",
            "\n",
            "  merged_data['CompetitionOpenSinceYear'].fillna(0, inplace=True)\n",
            "<ipython-input-13-f32e1f168849>:23: FutureWarning: A value is trying to be set on a copy of a DataFrame or Series through chained assignment using an inplace method.\n",
            "The behavior will change in pandas 3.0. This inplace method will never work because the intermediate object on which we are setting values always behaves as a copy.\n",
            "\n",
            "For example, when doing 'df[col].method(value, inplace=True)', try using 'df.method({col: value}, inplace=True)' or df[col] = df[col].method(value) instead, to perform the operation inplace on the original object.\n",
            "\n",
            "\n",
            "  merged_data['Promo2SinceWeek'].fillna(0, inplace=True)\n",
            "<ipython-input-13-f32e1f168849>:24: FutureWarning: A value is trying to be set on a copy of a DataFrame or Series through chained assignment using an inplace method.\n",
            "The behavior will change in pandas 3.0. This inplace method will never work because the intermediate object on which we are setting values always behaves as a copy.\n",
            "\n",
            "For example, when doing 'df[col].method(value, inplace=True)', try using 'df.method({col: value}, inplace=True)' or df[col] = df[col].method(value) instead, to perform the operation inplace on the original object.\n",
            "\n",
            "\n",
            "  merged_data['Promo2SinceYear'].fillna(0, inplace=True)\n",
            "<ipython-input-13-f32e1f168849>:25: FutureWarning: A value is trying to be set on a copy of a DataFrame or Series through chained assignment using an inplace method.\n",
            "The behavior will change in pandas 3.0. This inplace method will never work because the intermediate object on which we are setting values always behaves as a copy.\n",
            "\n",
            "For example, when doing 'df[col].method(value, inplace=True)', try using 'df.method({col: value}, inplace=True)' or df[col] = df[col].method(value) instead, to perform the operation inplace on the original object.\n",
            "\n",
            "\n",
            "  merged_data['PromoInterval'].fillna('None', inplace=True)\n"
          ]
        },
        {
          "output_type": "stream",
          "name": "stdout",
          "text": [
            "Invalid dates found and removed:\n",
            "        Store  DayOfWeek Date  Sales  Customers  Open  Promo StateHoliday  \\\n",
            "196219   1095          5  NaT    NaN        NaN   NaN    NaN          NaN   \n",
            "\n",
            "        SchoolHoliday StoreType Assortment  CompetitionDistance  \\\n",
            "196219            NaN         a          a                690.0   \n",
            "\n",
            "        CompetitionOpenSinceMonth  CompetitionOpenSinceYear  Promo2  \\\n",
            "196219                        6.0                    2007.0       1   \n",
            "\n",
            "        Promo2SinceWeek  Promo2SinceYear    PromoInterval  \n",
            "196219             14.0           2011.0  Jan,Apr,Jul,Oct  \n",
            "No missing values remain!\n",
            "   Store  DayOfWeek       Date    Sales  Customers  Open  Promo  StateHoliday  \\\n",
            "0      1          4 2015-07-31   5263.0      555.0   1.0    1.0             0   \n",
            "1      2          4 2015-07-31   6064.0      625.0   1.0    1.0             0   \n",
            "2      3          4 2015-07-31   8314.0      821.0   1.0    1.0             0   \n",
            "3      4          4 2015-07-31  13995.0     1498.0   1.0    1.0             0   \n",
            "4      5          4 2015-07-31   4822.0      559.0   1.0    1.0             0   \n",
            "\n",
            "   SchoolHoliday  StoreType  ...  Promo2SinceWeek  Promo2SinceYear  \\\n",
            "0            1.0          2  ...              0.0              0.0   \n",
            "1            1.0          0  ...             13.0           2010.0   \n",
            "2            1.0          0  ...             14.0           2011.0   \n",
            "3            1.0          2  ...              0.0              0.0   \n",
            "4            1.0          0  ...              0.0              0.0   \n",
            "\n",
            "   PromoInterval  Year  Month  Day  WeekOfYear  DayOfYear  MonthStage  \\\n",
            "0              3  2015      7   31          31        212           3   \n",
            "1              1  2015      7   31          31        212           3   \n",
            "2              1  2015      7   31          31        212           3   \n",
            "3              3  2015      7   31          31        212           3   \n",
            "4              3  2015      7   31          31        212           3   \n",
            "\n",
            "   CompetitionAgeMonths  \n",
            "0                  82.0  \n",
            "1                  92.0  \n",
            "2                 103.0  \n",
            "3                  70.0  \n",
            "4                   3.0  \n",
            "\n",
            "[5 rows x 25 columns]\n"
          ]
        }
      ],
      "source": [
        "# Load the merged dataset\n",
        "merged_data = pd.read_csv('merged_data.csv')\n",
        "\n",
        "\n",
        "# Convert 'Date' to datetime, coercing errors\n",
        "merged_data['Date'] = pd.to_datetime(merged_data['Date'], errors='coerce')\n",
        "\n",
        "# Check for invalid dates and print a summary\n",
        "invalid_dates = merged_data[merged_data['Date'].isnull()]\n",
        "if not invalid_dates.empty:\n",
        "    print(f\"Invalid dates found and removed:\\n{invalid_dates}\")\n",
        "\n",
        "# Remove rows with invalid or missing dates\n",
        "merged_data.dropna(subset=['Date'], inplace=True)\n",
        "\n",
        "# Step 1: Handle missing values\n",
        "# Fill missing competition data with default values\n",
        "merged_data['CompetitionDistance'].fillna(merged_data['CompetitionDistance'].median(), inplace=True)\n",
        "merged_data['CompetitionOpenSinceMonth'].fillna(0, inplace=True)\n",
        "merged_data['CompetitionOpenSinceYear'].fillna(0, inplace=True)\n",
        "\n",
        "# Fill missing promo2 data with default values\n",
        "merged_data['Promo2SinceWeek'].fillna(0, inplace=True)\n",
        "merged_data['Promo2SinceYear'].fillna(0, inplace=True)\n",
        "merged_data['PromoInterval'].fillna('None', inplace=True)\n",
        "\n",
        "# Step 2: Feature engineering\n",
        "# Convert date column to datetime\n",
        "merged_data['Date'] = pd.to_datetime(merged_data['Date'])\n",
        "\n",
        "# Extract temporal features from the date\n",
        "merged_data['Year'] = merged_data['Date'].dt.year\n",
        "merged_data['Month'] = merged_data['Date'].dt.month\n",
        "merged_data['Day'] = merged_data['Date'].dt.day\n",
        "merged_data['WeekOfYear'] = merged_data['Date'].dt.isocalendar().week\n",
        "merged_data['DayOfYear'] = merged_data['Date'].dt.dayofyear\n",
        "merged_data['DayOfWeek'] = merged_data['Date'].dt.dayofweek\n",
        "\n",
        "# Beginning, mid, or end of the month\n",
        "def month_stage(day):\n",
        "    if day <= 10:\n",
        "        return 'beginning'\n",
        "    elif day <= 20:\n",
        "        return 'mid'\n",
        "    else:\n",
        "        return 'end'\n",
        "\n",
        "merged_data['MonthStage'] = merged_data['Day'].apply(month_stage)\n",
        "\n",
        "# Compute competition age in months\n",
        "merged_data['CompetitionAgeMonths'] = ((merged_data['Year'] - merged_data['CompetitionOpenSinceYear']) * 12 +\n",
        "                                       (merged_data['Month'] - merged_data['CompetitionOpenSinceMonth']))\n",
        "merged_data['CompetitionAgeMonths'] = merged_data['CompetitionAgeMonths'].apply(lambda x: max(x, 0))\n",
        "\n",
        "# Step 3: Encode categorical variables\n",
        "\n",
        "# Encode 'MonthStage' as numerical\n",
        "month_stage_mapping = {'beginning': 1, 'mid': 2, 'end': 3}\n",
        "merged_data['MonthStage'] = merged_data['MonthStage'].map(month_stage_mapping)\n",
        "# Encode 'StateHoliday' as numerical\n",
        "merged_data['StateHoliday'] = merged_data['StateHoliday'].replace({0: '0', '0': '0'})  # Ensure consistency\n",
        "label_encoders = {}\n",
        "for col in ['StoreType', 'Assortment', 'PromoInterval', 'StateHoliday']:\n",
        "    label_enc = LabelEncoder()\n",
        "    merged_data[col] = label_enc.fit_transform(merged_data[col])\n",
        "    label_encoders[col] = label_enc  # Save encoders for later use\n",
        "\n",
        "\n",
        "\n",
        "# Step 5: Check for any remaining missing values\n",
        "if merged_data.isnull().sum().any():\n",
        "    print(\"Warning: Missing values detected!\")\n",
        "    print(merged_data.isnull().sum())\n",
        "else:\n",
        "    print(\"No missing values remain!\")\n",
        "\n",
        "# Save the preprocessed dataset (optional)\n",
        "merged_data.to_csv('preprocessed_data.csv', index=False)\n",
        "\n",
        "# Display the first few rows of the preprocessed dataset\n",
        "print(merged_data.head())\n"
      ]
    },
    {
      "cell_type": "markdown",
      "source": [
        "# Model building with sklearn pipelines"
      ],
      "metadata": {
        "id": "67N8BPbputUk"
      }
    },
    {
      "cell_type": "code",
      "source": [
        "from sklearn.model_selection import train_test_split\n",
        "from sklearn.ensemble import RandomForestRegressor\n",
        "from sklearn.pipeline import Pipeline\n",
        "from sklearn.preprocessing import StandardScaler\n",
        "from sklearn.metrics import mean_squared_error, r2_score"
      ],
      "metadata": {
        "id": "ejkNUQxFt94H"
      },
      "execution_count": 14,
      "outputs": []
    },
    {
      "cell_type": "code",
      "source": [
        "# Load the preprocessed dataset\n",
        "data = pd.read_csv('preprocessed_data.csv')\n",
        "\n",
        "# Step 1: Define features (X) and target (y)\n",
        "X = data.drop(['Sales', 'Date'], axis=1)  # Features\n",
        "y = data['Sales']  # Target variable\n",
        "\n",
        "# Step 2: Split the dataset\n",
        "X_train, X_test, y_train, y_test = train_test_split(X, y, test_size=0.2, random_state=42)\n",
        "\n",
        "# Step 3: Define the pipeline\n",
        "pipeline = Pipeline([\n",
        "    ('model', RandomForestRegressor(random_state=42, n_estimators=100))  # Random Forest\n",
        "])\n",
        "\n",
        "# Step 4: Train the model\n",
        "pipeline.fit(X_train, y_train)\n",
        "\n",
        "# Step 5: Make predictions\n",
        "y_pred = pipeline.predict(X_test)\n",
        "\n",
        "# Step 6: Evaluate the model\n",
        "mse = mean_squared_error(y_test, y_pred)\n",
        "r2 = r2_score(y_test, y_pred)\n",
        "\n",
        "print(\"Model Evaluation:\")\n",
        "print(f\"Mean Squared Error (MSE): {mse:.4f}\")\n",
        "print(f\"R-squared (R2 Score): {r2:.4f}\")\n",
        "\n",
        "# Optional: Save the pipeline for deployment\n",
        "import joblib\n",
        "joblib.dump(pipeline, 'random_forest_pipeline.pkl')\n"
      ],
      "metadata": {
        "colab": {
          "base_uri": "https://localhost:8080/"
        },
        "id": "rclppJknvc21",
        "outputId": "a9b5861b-3890-439f-c2a1-da1ff66732c1"
      },
      "execution_count": 17,
      "outputs": [
        {
          "output_type": "stream",
          "name": "stdout",
          "text": [
            "Model Evaluation:\n",
            "Mean Squared Error (MSE): 246298.6746\n",
            "R-squared (R2 Score): 0.9833\n"
          ]
        },
        {
          "output_type": "execute_result",
          "data": {
            "text/plain": [
              "['random_forest_pipeline.pkl']"
            ]
          },
          "metadata": {},
          "execution_count": 17
        }
      ]
    },
    {
      "cell_type": "code",
      "source": [
        "from sklearn.preprocessing import StandardScaler\n",
        "df = pd.read_csv('preprocessed_data.csv')\n",
        "# Identify numerical columns to scale\n",
        "numerical_columns = df.select_dtypes(include=['int64', 'float64']).columns\n",
        "\n",
        "# Initialize the scaler\n",
        "scaler = StandardScaler()\n",
        "\n",
        "# Scale the numerical columns\n",
        "df_scaled = df.copy()\n",
        "df_scaled[numerical_columns] = scaler.fit_transform(df[numerical_columns])\n",
        "\n",
        "# Save the scaled dataset\n",
        "scaled_output_path = 'scaled_dataset.csv'\n",
        "df_scaled.to_csv(scaled_output_path, index=False)\n",
        "\n",
        "# Display a preview of the scaled DataFrame\n",
        "print(f\"Scaled Data saved to {scaled_output_path}\")\n",
        "print(df_scaled.head())"
      ],
      "metadata": {
        "id": "o5UrINRz0Cq8",
        "outputId": "d3da8efd-b9b3-4249-a772-7c7d857476ad",
        "colab": {
          "base_uri": "https://localhost:8080/"
        }
      },
      "execution_count": 19,
      "outputs": [
        {
          "output_type": "stream",
          "name": "stdout",
          "text": [
            "Scaled Data saved to scaled_dataset.csv\n",
            "      Store  DayOfWeek        Date     Sales  Customers      Open     Promo  \\\n",
            "0 -1.730491   0.498257  2015-07-31 -0.161430  -0.155163  0.453279  1.291179   \n",
            "1 -1.727384   0.498257  2015-07-31  0.046087  -0.001534  0.453279  1.291179   \n",
            "2 -1.724277   0.498257  2015-07-31  0.629000   0.428627  0.453279  1.291179   \n",
            "3 -1.721170   0.498257  2015-07-31  2.100791   1.914440  0.453279  1.291179   \n",
            "4 -1.718063   0.498257  2015-07-31 -0.275681  -0.146384  0.453279  1.291179   \n",
            "\n",
            "   StateHoliday  SchoolHoliday  StoreType  ...  Promo2SinceWeek  \\\n",
            "0      -0.17199       2.345646   0.571928  ...        -0.777794   \n",
            "1      -0.17199       2.345646  -0.889054  ...         0.058993   \n",
            "2      -0.17199       2.345646  -0.889054  ...         0.123361   \n",
            "3      -0.17199       2.345646   0.571928  ...        -0.777794   \n",
            "4      -0.17199       2.345646  -0.889054  ...        -0.777794   \n",
            "\n",
            "   Promo2SinceYear  PromoInterval  Year     Month       Day  WeekOfYear  \\\n",
            "0        -1.024491       0.934339   0.0  1.436553  1.750889    1.700372   \n",
            "1         0.974339      -0.852640   0.0  1.436553  1.750889    1.700372   \n",
            "2         0.975333      -0.852640   0.0  1.436553  1.750889    1.700372   \n",
            "3        -1.024491       0.934339   0.0  1.436553  1.750889    1.700372   \n",
            "4        -1.024491       0.934339   0.0  1.436553  1.750889    1.700372   \n",
            "\n",
            "   DayOfYear  MonthStage  CompetitionAgeMonths  \n",
            "0   1.722234    1.190725             -0.681278  \n",
            "1   1.722234    1.190725             -0.680387  \n",
            "2   1.722234    1.190725             -0.679407  \n",
            "3   1.722234    1.190725             -0.682347  \n",
            "4   1.722234    1.190725             -0.688316  \n",
            "\n",
            "[5 rows x 25 columns]\n"
          ]
        }
      ]
    },
    {
      "cell_type": "markdown",
      "source": [
        "# Feature importance"
      ],
      "metadata": {
        "id": "Q8Bx8gETyNo3"
      }
    },
    {
      "cell_type": "code",
      "source": [
        "import numpy as np\n",
        "import pandas as pd\n",
        "import matplotlib.pyplot as plt\n",
        "import joblib\n",
        "from sklearn.metrics import mean_squared_error, r2_score\n",
        "\n",
        "# Load the preprocessed and scaled dataset\n",
        "data = pd.read_csv('scaled_dataset.csv')\n",
        "\n",
        "# Define features (X) and target (y)\n",
        "X = data.drop(columns=['Sales', 'Date'])  # Dropping 'Sales' and 'Date' columns\n",
        "y = data['Sales']  # Target variable\n",
        "\n",
        "# Split the dataset into training and testing sets\n",
        "X_train, X_test, y_train, y_test = train_test_split(X, y, test_size=0.2, random_state=42)\n",
        "\n",
        "# Load the pre-trained Random Forest pipeline\n",
        "model = joblib.load('random_forest_pipeline.pkl')\n",
        "\n",
        "# Predict on the test set\n",
        "y_pred = model.predict(X_test)\n",
        "\n",
        "# Evaluate the model\n",
        "mse = mean_squared_error(y_test, y_pred)\n",
        "r2 = r2_score(y_test, y_pred)\n",
        "\n",
        "print(\"Model Evaluation:\")\n",
        "print(f\"Mean Squared Error (MSE): {mse:.4f}\")\n",
        "print(f\"R-squared (R2 Score): {r2:.4f}\")\n",
        "\n",
        "# -- Feature Importance --\n",
        "# Extract feature importance from the pipeline\n",
        "feature_importances = model.named_steps['model'].feature_importances_\n",
        "\n",
        "# Create a DataFrame for feature importance\n",
        "feature_importance_df = pd.DataFrame({\n",
        "    'Feature': X_train.columns,\n",
        "    'Importance': feature_importances\n",
        "})\n",
        "\n",
        "# Sort features by importance\n",
        "feature_importance_df = feature_importance_df.sort_values(by='Importance', ascending=False)\n",
        "\n",
        "# Plot feature importances\n",
        "plt.figure(figsize=(10, 6))\n",
        "plt.barh(feature_importance_df['Feature'], feature_importance_df['Importance'])\n",
        "plt.xlabel('Feature Importance')\n",
        "plt.title('Feature Importance in Sales Prediction')\n",
        "plt.show()\n",
        "\n",
        "# -- Confidence Interval Estimation via Bootstrapping --\n",
        "def bootstrap_confidence_interval(model, X, y, n_iterations=1000, ci=95):\n",
        "    predictions = []\n",
        "\n",
        "    for i in range(n_iterations):\n",
        "        # Resample with replacement\n",
        "        sample_indices = np.random.choice(len(X), size=len(X), replace=True)\n",
        "        X_sample, y_sample = X.iloc[sample_indices], y.iloc[sample_indices]\n",
        "\n",
        "        # Fit the model on the bootstrap sample\n",
        "        model.fit(X_sample, y_sample)\n",
        "\n",
        "        # Make predictions on the original test data\n",
        "        y_pred = model.predict(X_test)\n",
        "        predictions.append(y_pred)\n",
        "\n",
        "    # Convert predictions to a numpy array\n",
        "    predictions = np.array(predictions)\n",
        "\n",
        "    # Calculate the lower and upper bounds of the confidence interval\n",
        "    lower_bound = np.percentile(predictions, (100 - ci) / 2, axis=0)\n",
        "    upper_bound = np.percentile(predictions, 100 - (100 - ci) / 2, axis=0)\n",
        "\n",
        "    return lower_bound, upper_bound\n",
        "\n",
        "# Estimate 95% confidence intervals for the predictions\n",
        "lower_bound, upper_bound = bootstrap_confidence_interval(model, X_train, y_train, n_iterations=1000, ci=95)\n",
        "\n",
        "# Display the confidence intervals for the first 10 predictions\n",
        "for i in range(10):\n",
        "    print(f\"Prediction {i+1}: {y_pred[i]:.2f} (CI: [{lower_bound[i]:.2f}, {upper_bound[i]:.2f}])\")\n",
        "\n",
        "# Plotting the predictions with confidence intervals\n",
        "plt.figure(figsize=(10, 6))\n",
        "\n",
        "# Plot the predicted values\n",
        "plt.plot(y_pred, label='Predictions', color='blue', alpha=0.7)\n",
        "\n",
        "# Plot the confidence intervals\n",
        "plt.fill_between(range(len(y_pred)), lower_bound, upper_bound, color='gray', alpha=0.2, label='95% CI')\n",
        "\n",
        "plt.xlabel('Test Samples')\n",
        "plt.ylabel('Sales Predictions')\n",
        "plt.title('Sales Predictions with 95% Confidence Intervals')\n",
        "plt.legend()\n",
        "plt.show()\n"
      ],
      "metadata": {
        "colab": {
          "base_uri": "https://localhost:8080/",
          "height": 580
        },
        "id": "pm6KwH1UvvMm",
        "outputId": "a42ca055-6bec-4423-c6aa-85190f70e8ff"
      },
      "execution_count": null,
      "outputs": [
        {
          "metadata": {
            "tags": null
          },
          "name": "stdout",
          "output_type": "stream",
          "text": [
            "Model Evaluation:\n",
            "Mean Squared Error (MSE): 0.9871\n",
            "R-squared (R2 Score): -0.0000\n"
          ]
        },
        {
          "data": {
            "image/png": "[encoded data removed]",
            "text/plain": [
              "<Figure size 1000x600 with 1 Axes>"
            ]
          },
          "metadata": {},
          "output_type": "display_data"
        }
      ]
    },
    {
      "cell_type": "code",
      "source": [],
      "metadata": {
        "id": "WvWBFaavzOkz"
      },
      "execution_count": null,
      "outputs": []
    },
    {
      "cell_type": "code",
      "source": [],
      "metadata": {
        "id": "YCC0yKmy8j_p"
      },
      "execution_count": null,
      "outputs": []
    }
  ],
  "metadata": {
    "kernelspec": {
      "display_name": ".venv",
      "language": "python",
      "name": "python3"
    },
    "language_info": {
      "codemirror_mode": {
        "name": "ipython",
        "version": 3
      },
      "file_extension": ".py",
      "mimetype": "text/x-python",
      "name": "python",
      "nbconvert_exporter": "python",
      "pygments_lexer": "ipython3",
      "version": "3.10.12"
    },
    "colab": {
      "provenance": [],
      "include_colab_link": true
    }
  },
  "nbformat": 4,
  "nbformat_minor": 0
}