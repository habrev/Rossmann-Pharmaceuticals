{
  "cells": [
    {
      "cell_type": "markdown",
      "metadata": {
        "id": "view-in-github",
        "colab_type": "text"
      },
      "source": [
        "<a href=\"https://colab.research.google.com/github/habrev/Rossmann-Pharmaceuticals/blob/task-2/notebooks/prediction.ipynb\" target=\"_parent\"><img src=\"https://colab.research.google.com/assets/colab-badge.svg\" alt=\"Open In Colab\"/></a>"
      ]
    },
    {
      "cell_type": "markdown",
      "metadata": {
        "id": "1KLfVBtbeB7G"
      },
      "source": [
        "# Dependency"
      ]
    },
    {
      "cell_type": "code",
      "execution_count": 1,
      "metadata": {
        "id": "tM4kCfMMeB7I"
      },
      "outputs": [],
      "source": [
        "import pandas as pd\n",
        "import matplotlib as plt"
      ]
    },
    {
      "cell_type": "markdown",
      "metadata": {
        "id": "EPpKUedqeB7J"
      },
      "source": [
        "# Preprocessing"
      ]
    },
    {
      "cell_type": "markdown",
      "metadata": {
        "id": "434o9yLBeB7J"
      },
      "source": [
        "# file imported"
      ]
    },
    {
      "cell_type": "code",
      "execution_count": 2,
      "metadata": {
        "colab": {
          "base_uri": "https://localhost:8080/"
        },
        "id": "YPyzghdbeB7K",
        "outputId": "6d86dcfd-5a1b-4309-80b2-60e17b4760a9"
      },
      "outputs": [
        {
          "output_type": "stream",
          "name": "stderr",
          "text": [
            "<ipython-input-2-cd75a77447fc>:1: DtypeWarning: Columns (7) have mixed types. Specify dtype option on import or set low_memory=False.\n",
            "  df = pd.read_csv('train.csv')\n"
          ]
        }
      ],
      "source": [
        "df = pd.read_csv('train.csv')"
      ]
    },
    {
      "cell_type": "code",
      "execution_count": 3,
      "metadata": {
        "colab": {
          "base_uri": "https://localhost:8080/"
        },
        "id": "mxjK4Vg5eB7L",
        "outputId": "9a28c0d1-fb72-44a1-af02-1b348d8c1ac6"
      },
      "outputs": [
        {
          "output_type": "stream",
          "name": "stdout",
          "text": [
            "Original Data:\n",
            "   Store  DayOfWeek        Date  Sales  Customers  Open  Promo StateHoliday  \\\n",
            "0      1          5  2015-07-31   5263        555     1      1            0   \n",
            "1      2          5  2015-07-31   6064        625     1      1            0   \n",
            "2      3          5  2015-07-31   8314        821     1      1            0   \n",
            "3      4          5  2015-07-31  13995       1498     1      1            0   \n",
            "4      5          5  2015-07-31   4822        559     1      1            0   \n",
            "\n",
            "   SchoolHoliday  \n",
            "0              1  \n",
            "1              1  \n",
            "2              1  \n",
            "3              1  \n",
            "4              1  \n",
            "\n",
            "Encoded file saved to one_hot_encoded.csv\n",
            "\n",
            "Encoded Data (sample rows for 'Date' and 'StateHoliday'):\n",
            "   Date_2013-01-01  Date_2013-01-02  Date_2013-01-03  Date_2013-01-04  \\\n",
            "0            False            False            False            False   \n",
            "1            False            False            False            False   \n",
            "2            False            False            False            False   \n",
            "3            False            False            False            False   \n",
            "4            False            False            False            False   \n",
            "\n",
            "   Date_2013-01-05  Date_2013-01-06  Date_2013-01-07  Date_2013-01-08  \\\n",
            "0            False            False            False            False   \n",
            "1            False            False            False            False   \n",
            "2            False            False            False            False   \n",
            "3            False            False            False            False   \n",
            "4            False            False            False            False   \n",
            "\n",
            "   Date_2013-01-09  Date_2013-01-10  ...  Date_2015-07-26  Date_2015-07-27  \\\n",
            "0            False            False  ...            False            False   \n",
            "1            False            False  ...            False            False   \n",
            "2            False            False  ...            False            False   \n",
            "3            False            False  ...            False            False   \n",
            "4            False            False  ...            False            False   \n",
            "\n",
            "   Date_2015-07-28  Date_2015-07-29  Date_2015-07-30  Date_2015-07-31  \\\n",
            "0            False            False            False             True   \n",
            "1            False            False            False             True   \n",
            "2            False            False            False             True   \n",
            "3            False            False            False             True   \n",
            "4            False            False            False             True   \n",
            "\n",
            "   StateHoliday_0  StateHoliday_a  StateHoliday_b  StateHoliday_c  \n",
            "0            True           False           False           False  \n",
            "1            True           False           False           False  \n",
            "2            True           False           False           False  \n",
            "3            True           False           False           False  \n",
            "4            True           False           False           False  \n",
            "\n",
            "[5 rows x 946 columns]\n"
          ]
        }
      ],
      "source": [
        "from sklearn.preprocessing import LabelEncoder\n",
        "\n",
        "# Display the first few rows of the dataset\n",
        "print(\"Original Data:\")\n",
        "print(df.head())\n",
        "\n",
        "# Identify non-numerical columns\n",
        "non_numerical_columns = df.select_dtypes(include=['object', 'category']).columns\n",
        "\n",
        "# Convert all non-numerical columns to strings (if necessary)\n",
        "df[non_numerical_columns] = df[non_numerical_columns].astype(str)\n",
        "\n",
        "# Perform One-Hot Encoding on all non-numerical columns\n",
        "df_encoded = pd.get_dummies(df, columns=non_numerical_columns)\n",
        "\n",
        "# Optionally, save the encoded data to a new file\n",
        "output_path = 'one_hot_encoded.csv'\n",
        "df_encoded.to_csv(output_path, index=False)\n",
        "print(f\"\\nEncoded file saved to {output_path}\")\n",
        "\n",
        "print(\"\\nEncoded Data (sample rows for 'Date' and 'StateHoliday'):\")\n",
        "encoded_columns = [col for col in df_encoded.columns if 'Date' in col or 'StateHoliday' in col]\n",
        "print(df_encoded[encoded_columns].head())\n"
      ]
    },
    {
      "cell_type": "markdown",
      "source": [
        "# feature engineering"
      ],
      "metadata": {
        "id": "2yUBzys0ilRY"
      }
    },
    {
      "cell_type": "code",
      "execution_count": 4,
      "metadata": {
        "id": "H83bYeWeeB7M"
      },
      "outputs": [],
      "source": [
        "df = pd.read_csv('one_hot_encoded.csv')"
      ]
    },
    {
      "cell_type": "code",
      "source": [
        "from sklearn.preprocessing import StandardScaler\n",
        "# Identify numerical columns to scale\n",
        "numerical_columns = df.select_dtypes(include=['int64', 'float64']).columns\n",
        "\n",
        "# Initialize the scaler\n",
        "scaler = StandardScaler()\n",
        "\n",
        "# Scale the numerical columns\n",
        "df_scaled = df.copy()\n",
        "df_scaled[numerical_columns] = scaler.fit_transform(df[numerical_columns])\n",
        "\n",
        "# Save the scaled dataset\n",
        "scaled_output_path = 'scaled_dataset.csv'\n",
        "df_scaled.to_csv(scaled_output_path, index=False)\n",
        "\n",
        "# Display a preview of the scaled DataFrame\n",
        "print(f\"Scaled Data saved to {scaled_output_path}\")\n",
        "print(df_scaled.head())"
      ],
      "metadata": {
        "colab": {
          "base_uri": "https://localhost:8080/"
        },
        "id": "opq9Eg4YX6ep",
        "outputId": "78dba212-4c0d-46b2-df6f-24c782122ec9"
      },
      "execution_count": 7,
      "outputs": [
        {
          "output_type": "stream",
          "name": "stdout",
          "text": [
            "Scaled Data saved to scaled_dataset.csv\n",
            "      Store  DayOfWeek     Sales  Customers      Open     Promo  \\\n",
            "0 -1.731640   0.501484 -0.132683  -0.168269  0.452399  1.273237   \n",
            "1 -1.728534   0.501484  0.075373  -0.017540  0.452399  1.273237   \n",
            "2 -1.725427   0.501484  0.659800   0.404499  0.452399  1.273237   \n",
            "3 -1.722321   0.501484  2.135414   1.862258  0.452399  1.273237   \n",
            "4 -1.719214   0.501484 -0.247231  -0.159656  0.452399  1.273237   \n",
            "\n",
            "   SchoolHoliday  Date_2013-01-01  Date_2013-01-02  Date_2013-01-03  ...  \\\n",
            "0       2.144211            False            False            False  ...   \n",
            "1       2.144211            False            False            False  ...   \n",
            "2       2.144211            False            False            False  ...   \n",
            "3       2.144211            False            False            False  ...   \n",
            "4       2.144211            False            False            False  ...   \n",
            "\n",
            "   Date_2015-07-26  Date_2015-07-27  Date_2015-07-28  Date_2015-07-29  \\\n",
            "0            False            False            False            False   \n",
            "1            False            False            False            False   \n",
            "2            False            False            False            False   \n",
            "3            False            False            False            False   \n",
            "4            False            False            False            False   \n",
            "\n",
            "   Date_2015-07-30  Date_2015-07-31  StateHoliday_0  StateHoliday_a  \\\n",
            "0            False             True            True           False   \n",
            "1            False             True            True           False   \n",
            "2            False             True            True           False   \n",
            "3            False             True            True           False   \n",
            "4            False             True            True           False   \n",
            "\n",
            "   StateHoliday_b  StateHoliday_c  \n",
            "0           False           False  \n",
            "1           False           False  \n",
            "2           False           False  \n",
            "3           False           False  \n",
            "4           False           False  \n",
            "\n",
            "[5 rows x 953 columns]\n"
          ]
        }
      ]
    }
  ],
  "metadata": {
    "kernelspec": {
      "display_name": ".venv",
      "language": "python",
      "name": "python3"
    },
    "language_info": {
      "codemirror_mode": {
        "name": "ipython",
        "version": 3
      },
      "file_extension": ".py",
      "mimetype": "text/x-python",
      "name": "python",
      "nbconvert_exporter": "python",
      "pygments_lexer": "ipython3",
      "version": "3.10.12"
    },
    "colab": {
      "provenance": [],
      "include_colab_link": true
    }
  },
  "nbformat": 4,
  "nbformat_minor": 0
}